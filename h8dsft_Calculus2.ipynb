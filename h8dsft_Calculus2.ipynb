{
 "cells": [
  {
   "cell_type": "markdown",
   "id": "c716b352",
   "metadata": {},
   "source": [
    "# Carilah Integral dari fungsi berikut: "
   ]
  },
  {
   "cell_type": "markdown",
   "id": "1bf36c10",
   "metadata": {},
   "source": [
    "# 3𝑥**2 − 6𝑥 + 3 𝑑𝑥"
   ]
  },
  {
   "cell_type": "code",
   "execution_count": 1,
   "id": "50a63831",
   "metadata": {},
   "outputs": [
    {
     "data": {
      "text/latex": [
       "$\\displaystyle \\frac{2 x^{3}}{3} + 2 x^{2} - x$"
      ],
      "text/plain": [
       "2*x**3/3 + 2*x**2 - x"
      ]
     },
     "execution_count": 1,
     "metadata": {},
     "output_type": "execute_result"
    }
   ],
   "source": [
    "import sympy as sy\n",
    "\n",
    "x = sy.Symbol('x',real=True)\n",
    "\n",
    "f = 2*x**2 + 4*x- 1 \n",
    "\n",
    "sy.integrate(f)"
   ]
  },
  {
   "cell_type": "markdown",
   "id": "531d691a",
   "metadata": {},
   "source": [
    "# 8𝑥**3 − 𝑥**2 + 5𝑥 − 1 𝑑𝑥"
   ]
  },
  {
   "cell_type": "code",
   "execution_count": 4,
   "id": "b8b6b758",
   "metadata": {},
   "outputs": [
    {
     "data": {
      "text/latex": [
       "$\\displaystyle 2 x^{4} - \\frac{x^{3}}{3} + \\frac{5 x^{2}}{2} - x$"
      ],
      "text/plain": [
       "2*x**4 - x**3/3 + 5*x**2/2 - x"
      ]
     },
     "execution_count": 4,
     "metadata": {},
     "output_type": "execute_result"
    }
   ],
   "source": [
    "import sympy as sy\n",
    "\n",
    "x = sy.Symbol('x',real=True)\n",
    "\n",
    "f = 8*x**3 - x**2 + 5*x - 1 \n",
    "\n",
    "sy.integrate(f)"
   ]
  }
 ],
 "metadata": {
  "kernelspec": {
   "display_name": "Python 3",
   "language": "python",
   "name": "python3"
  },
  "language_info": {
   "codemirror_mode": {
    "name": "ipython",
    "version": 3
   },
   "file_extension": ".py",
   "mimetype": "text/x-python",
   "name": "python",
   "nbconvert_exporter": "python",
   "pygments_lexer": "ipython3",
   "version": "3.8.8"
  }
 },
 "nbformat": 4,
 "nbformat_minor": 5
}
