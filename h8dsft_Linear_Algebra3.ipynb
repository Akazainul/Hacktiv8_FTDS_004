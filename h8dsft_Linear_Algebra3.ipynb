{
 "cells": [
  {
   "cell_type": "markdown",
   "id": "9fadb2fa",
   "metadata": {},
   "source": [
    "# Apakah [1,3] adalah eigen vector dari ([1, −1]. [6, 4])? Jika Iya, berapakah eigen value-nya?"
   ]
  },
  {
   "cell_type": "code",
   "execution_count": 5,
   "id": "2a29cbe6",
   "metadata": {},
   "outputs": [
    {
     "name": "stdout",
     "output_type": "stream",
     "text": [
      "[2.5+1.93649167j 2.5-1.93649167j]\n",
      "\n",
      "[[-0.23145502+0.29880715j -0.23145502-0.29880715j]\n",
      " [ 0.9258201 +0.j          0.9258201 -0.j        ]]\n"
     ]
    }
   ],
   "source": [
    "from numpy import array \n",
    "from numpy.linalg import eig\n",
    "\n",
    "a = array([[1, -1], [6, 4]])  \n",
    "\n",
    "values, vectors = eig(a) \n",
    "\n",
    "print(values) \n",
    "print(\"\")\n",
    "print(vectors)"
   ]
  },
  {
   "cell_type": "markdown",
   "id": "08c255f9",
   "metadata": {},
   "source": [
    "# [1,3] bukan eigen vector dari ([1, −1]. [6, 4])"
   ]
  },
  {
   "cell_type": "markdown",
   "id": "b2cf5abb",
   "metadata": {},
   "source": [
    "# Eigen valuenya adalah: [2.5+1.93649167j, 2.5-1.93649167j]"
   ]
  }
 ],
 "metadata": {
  "kernelspec": {
   "display_name": "Python 3",
   "language": "python",
   "name": "python3"
  },
  "language_info": {
   "codemirror_mode": {
    "name": "ipython",
    "version": 3
   },
   "file_extension": ".py",
   "mimetype": "text/x-python",
   "name": "python",
   "nbconvert_exporter": "python",
   "pygments_lexer": "ipython3",
   "version": "3.8.8"
  }
 },
 "nbformat": 4,
 "nbformat_minor": 5
}
