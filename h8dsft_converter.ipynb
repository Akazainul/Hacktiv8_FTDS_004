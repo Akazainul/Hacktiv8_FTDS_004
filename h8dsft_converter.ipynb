{
  "nbformat": 4,
  "nbformat_minor": 0,
  "metadata": {
    "colab": {
      "name": "h8dsft_converter.ipynb",
      "provenance": []
    },
    "kernelspec": {
      "name": "python3",
      "display_name": "Python 3"
    },
    "language_info": {
      "name": "python"
    }
  },
  "cells": [
    {
      "cell_type": "code",
      "metadata": {
        "colab": {
          "base_uri": "https://localhost:8080/"
        },
        "id": "eDQERog1k6Y8",
        "outputId": "79ac4ba5-481d-45a1-c45f-aa7ea3b7f8e4"
      },
      "source": [
        "# Buatlah sebuah function yang dapat mengkonversi suhu dari kelvin ke celcius, dan celcius ke kelvin.\n",
        "# Buatlah sebuah function yang dapat mengkonversi suhu ke fahrenheit. \n",
        "# Tambahkan parameter untuk memastikan bahwa argumen yang dimasukan adalah celcius atau kelvin. Panggil function yang pertama jika diperlukan.\n",
        "# Buatlah sebuah function yang dapat mengkonversi suhu dari fahrenheit. Berikan argumen untuk memastikan bahwa outputnya dalah celcius atau kelvin.\n",
        "# Berikan dokumentasi pada setiap baris kode yang kalian tulis.\n",
        "\n",
        "# Mendefinisikan fungsi\n",
        "def convert(temp, input, output):\n",
        "  # Konversi Celcius ke Kelvin\n",
        "  if input == 'celcius' and output == 'kelvin':\n",
        "    print('Hasil konversi Celcius ke Kelvin:', temp+273.15, 'Kelvin')\n",
        "\n",
        "  # Konversi Celcius ke Fahrenheit\n",
        "  elif input == 'celcius' and output == 'fahrenheit':\n",
        "    print('Hasil konversi Celcius ke Fahrenheit:', round((temp*9/5)+32,2), 'Fahrenheit')\n",
        "\n",
        "  # Konversi Kelvin ke Celcius\n",
        "  elif input == 'kelvin' and output == 'celcius':\n",
        "    print('Hasil konversi Kelvin ke Celcius:', temp-273.15, 'Celcius')\n",
        "  \n",
        "  # Konversi Kelvin ke Fahrenheit\n",
        "  elif input == 'kelvin' and output == 'fahrenheit':\n",
        "    print('Hasil konversi Kelvin ke Celcius:', round((temp-273.15) * 9/5 + 32,2), 'Fahrenheit')\n",
        "  \n",
        "  # Konversi Fahrenheit ke Celcius\n",
        "  elif input == 'fahrenheit' and output == 'celcius':\n",
        "    print('Hasil konversi Fahrenheit ke Celcius:', round((temp-32) * 5/9,2), 'Celcius')\n",
        "\n",
        "  # Konversi Fahrenheit ke Kelvin\n",
        "  elif input == 'fahrenheit' and output == 'kelvin':\n",
        "    print('Hasil konversi Fahrenheit ke Kelvin:', round((temp-32) * 5/9 + 273.15,2), 'Kelvin')\n",
        "\n",
        "convert(1000,'kelvin','fahrenheit')\n"
      ],
      "execution_count": 20,
      "outputs": [
        {
          "output_type": "stream",
          "name": "stdout",
          "text": [
            "Hasil konversi Kelvin ke Celcius: 1340.33 Fahrenheit\n"
          ]
        }
      ]
    }
  ]
}