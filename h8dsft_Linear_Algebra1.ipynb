{
 "cells": [
  {
   "cell_type": "code",
   "execution_count": 10,
   "id": "89531d19",
   "metadata": {},
   "outputs": [],
   "source": [
    "import numpy as np"
   ]
  },
  {
   "cell_type": "code",
   "execution_count": 11,
   "id": "88279dc2",
   "metadata": {},
   "outputs": [
    {
     "name": "stdout",
     "output_type": "stream",
     "text": [
      "[17 22 29]\n"
     ]
    }
   ],
   "source": [
    "# Problem 1: Membuat Vector\n",
    "\n",
    "v = np.array([17, 22, 29]) \n",
    "\n",
    "print(v)"
   ]
  },
  {
   "cell_type": "code",
   "execution_count": 12,
   "id": "32baee1f",
   "metadata": {},
   "outputs": [
    {
     "name": "stdout",
     "output_type": "stream",
     "text": [
      "[17 22 29] [10 20 11] [ 5 12  9]\n"
     ]
    }
   ],
   "source": [
    "# Problem 2:\n",
    "\n",
    "# Hitunglah:\n",
    "# - A+B\n",
    "# - B-C\n",
    "# - A dot C\n",
    "# - A x B\n",
    "# - norm A\n",
    "# - Sudut antara vektor A dan B\n",
    "\n",
    "\n",
    "a = np.array([17, 22, 29]) \n",
    "b = np.array([10, 20, 11]) \n",
    "c = np.array([5, 12, 9]) \n",
    "\n",
    "print(a,b,c)"
   ]
  },
  {
   "cell_type": "code",
   "execution_count": 13,
   "id": "0bff7dbc",
   "metadata": {},
   "outputs": [
    {
     "name": "stdout",
     "output_type": "stream",
     "text": [
      "[27 42 40]\n"
     ]
    }
   ],
   "source": [
    "# - A+B\n",
    "\n",
    "tambah = a+b\n",
    "\n",
    "print (tambah)"
   ]
  },
  {
   "cell_type": "code",
   "execution_count": 14,
   "id": "e6a3c03b",
   "metadata": {},
   "outputs": [
    {
     "name": "stdout",
     "output_type": "stream",
     "text": [
      "[5 8 2]\n"
     ]
    }
   ],
   "source": [
    "# - B-C\n",
    "\n",
    "kurang = b-c\n",
    "\n",
    "print(kurang)"
   ]
  },
  {
   "cell_type": "code",
   "execution_count": 15,
   "id": "fea7da8a",
   "metadata": {},
   "outputs": [
    {
     "name": "stdout",
     "output_type": "stream",
     "text": [
      "610\n"
     ]
    }
   ],
   "source": [
    "# - A dot C\n",
    "\n",
    "dott = a.dot(c)\n",
    "\n",
    "print(dott)"
   ]
  },
  {
   "cell_type": "code",
   "execution_count": 16,
   "id": "ce635c35",
   "metadata": {},
   "outputs": [
    {
     "name": "stdout",
     "output_type": "stream",
     "text": [
      "[170 440 319]\n"
     ]
    }
   ],
   "source": [
    "# - A x B\n",
    "\n",
    "kali = a * b\n",
    "\n",
    "print(kali)"
   ]
  },
  {
   "cell_type": "code",
   "execution_count": 17,
   "id": "16ae4eda",
   "metadata": {},
   "outputs": [
    {
     "name": "stdout",
     "output_type": "stream",
     "text": [
      "40.17461885320133\n"
     ]
    }
   ],
   "source": [
    "# - norm A\n",
    "\n",
    "v_norm= np.linalg.norm(a) \n",
    "\n",
    "print(v_norm)"
   ]
  },
  {
   "cell_type": "code",
   "execution_count": 20,
   "id": "254afe19",
   "metadata": {},
   "outputs": [
    {
     "name": "stdout",
     "output_type": "stream",
     "text": [
      "0.3819588768023841\n"
     ]
    }
   ],
   "source": [
    "# - Sudut antara vektor A dan B\n",
    "\n",
    "unit_vector_1 = a / np.linalg.norm(a)\n",
    "unit_vector_2 = b / np.linalg.norm(b)\n",
    "\n",
    "dot_product = np.dot(unit_vector_1, unit_vector_2)\n",
    "\n",
    "angle = np.arccos(dot_product)\n",
    "\n",
    "print(angle)"
   ]
  },
  {
   "cell_type": "code",
   "execution_count": 24,
   "id": "7b4d5b50",
   "metadata": {},
   "outputs": [
    {
     "data": {
      "image/png": "[encoded data removed]",
      "text/plain": [
       "<Figure size 432x288 with 1 Axes>"
      ]
     },
     "metadata": {
      "needs_background": "light"
     },
     "output_type": "display_data"
    }
   ],
   "source": [
    "# Buatlah plot dari vector berikut ini kedalam bidang 2D:\n",
    "%matplotlib inline\n",
    "import matplotlib.pyplot as plt\n",
    "\n",
    "u = np.array ([2,5])\n",
    "v = np.array ([3,1])\n",
    "\n",
    "x_coords, y_coords = zip(u, v)\n",
    "plt.scatter(x_coords, y_coords, color=[\"r\",\"b\"])\n",
    "plt.axis([0, 7, 0, 7])\n",
    "plt.grid()\n",
    "plt.show()"
   ]
  }
 ],
 "metadata": {
  "kernelspec": {
   "display_name": "Python 3",
   "language": "python",
   "name": "python3"
  },
  "language_info": {
   "codemirror_mode": {
    "name": "ipython",
    "version": 3
   },
   "file_extension": ".py",
   "mimetype": "text/x-python",
   "name": "python",
   "nbconvert_exporter": "python",
   "pygments_lexer": "ipython3",
   "version": "3.8.8"
  }
 },
 "nbformat": 4,
 "nbformat_minor": 5
}
