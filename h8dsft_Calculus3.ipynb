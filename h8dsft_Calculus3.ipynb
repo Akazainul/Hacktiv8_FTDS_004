{
 "cells": [
  {
   "cell_type": "markdown",
   "id": "ad3f214a",
   "metadata": {},
   "source": [
    "# Carilah Gradient dari sebuah fungsi berikut:\n",
    "\n",
    "# 3𝑥 + 4𝑦 = 5"
   ]
  },
  {
   "cell_type": "code",
   "execution_count": 4,
   "id": "3609c837",
   "metadata": {},
   "outputs": [
    {
     "name": "stdout",
     "output_type": "stream",
     "text": [
      "Gradien: -0.750000000000000\n"
     ]
    }
   ],
   "source": [
    "import sympy as sy\n",
    "\n",
    "x = sy.Symbol('x',real=True)\n",
    "\n",
    "f = - (3/4)*x + (5/4)\n",
    "\n",
    "print('Gradien:', f.diff(x))"
   ]
  }
 ],
 "metadata": {
  "kernelspec": {
   "display_name": "Python 3",
   "language": "python",
   "name": "python3"
  },
  "language_info": {
   "codemirror_mode": {
    "name": "ipython",
    "version": 3
   },
   "file_extension": ".py",
   "mimetype": "text/x-python",
   "name": "python",
   "nbconvert_exporter": "python",
   "pygments_lexer": "ipython3",
   "version": "3.8.8"
  }
 },
 "nbformat": 4,
 "nbformat_minor": 5
}
