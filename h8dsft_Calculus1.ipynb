{
 "cells": [
  {
   "cell_type": "markdown",
   "id": "206c293c",
   "metadata": {},
   "source": [
    "# Carilah turunan dari fungsi: \n",
    "# 𝑦 = 𝑥**2 + 2𝑥 + 1"
   ]
  },
  {
   "cell_type": "markdown",
   "id": "8b9ea8f3",
   "metadata": {},
   "source": [
    "# 𝑦 = 𝑥**2 + 2𝑥 + 1"
   ]
  },
  {
   "cell_type": "code",
   "execution_count": 8,
   "id": "3344cc46",
   "metadata": {},
   "outputs": [
    {
     "data": {
      "text/latex": [
       "$\\displaystyle 2 x + 2$"
      ],
      "text/plain": [
       "2*x + 2"
      ]
     },
     "execution_count": 8,
     "metadata": {},
     "output_type": "execute_result"
    }
   ],
   "source": [
    "import sympy as sy\n",
    "\n",
    "x = sy.Symbol('x',real=True)\n",
    "\n",
    "f = x**2 + 2*x + 1\n",
    "\n",
    "f.diff(x)"
   ]
  },
  {
   "cell_type": "markdown",
   "id": "94bd372c",
   "metadata": {},
   "source": [
    "# 𝑦 = 4𝑥**3 − 3𝑥**2 + 2𝑥 − 1"
   ]
  },
  {
   "cell_type": "code",
   "execution_count": 10,
   "id": "3be9b42f",
   "metadata": {},
   "outputs": [
    {
     "data": {
      "text/latex": [
       "$\\displaystyle 12 x^{2} + 6 x + 2$"
      ],
      "text/plain": [
       "12*x**2 + 6*x + 2"
      ]
     },
     "execution_count": 10,
     "metadata": {},
     "output_type": "execute_result"
    }
   ],
   "source": [
    "x = sy.Symbol('x',real=True)\n",
    "\n",
    "f = 4*x**3 + 3*x**2 + 2*x - 1\n",
    "\n",
    "f.diff(x)"
   ]
  }
 ],
 "metadata": {
  "kernelspec": {
   "display_name": "Python 3",
   "language": "python",
   "name": "python3"
  },
  "language_info": {
   "codemirror_mode": {
    "name": "ipython",
    "version": 3
   },
   "file_extension": ".py",
   "mimetype": "text/x-python",
   "name": "python",
   "nbconvert_exporter": "python",
   "pygments_lexer": "ipython3",
   "version": "3.8.8"
  }
 },
 "nbformat": 4,
 "nbformat_minor": 5
}
