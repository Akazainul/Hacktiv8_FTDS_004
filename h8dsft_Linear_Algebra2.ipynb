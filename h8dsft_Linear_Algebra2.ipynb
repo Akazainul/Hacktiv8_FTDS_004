{
 "cells": [
  {
   "cell_type": "code",
   "execution_count": 42,
   "id": "43016610",
   "metadata": {},
   "outputs": [
    {
     "name": "stdout",
     "output_type": "stream",
     "text": [
      "(2, 2, 2, 2)\n",
      "[[[[23 50]\n",
      "   [ 7 12]]\n",
      "\n",
      "  [[75 21]\n",
      "   [57 12]]]\n",
      "\n",
      "\n",
      " [[[57 67]\n",
      "   [99 43]]\n",
      "\n",
      "  [[87 26]\n",
      "   [18 84]]]]\n"
     ]
    }
   ],
   "source": [
    "# 1. Buatlah Tensor di bawah ini dengan Python:\n",
    "\n",
    "from numpy import array \n",
    "T = array([[[[23, 50],[7,12]], [[75, 21],[57, 12]]], [[[57, 67],[99,43]], [[87, 26],[18, 84]]]])\n",
    "\n",
    "print(T.shape)\n",
    "\n",
    "print(T) "
   ]
  },
  {
   "cell_type": "code",
   "execution_count": 43,
   "id": "3e831caf",
   "metadata": {},
   "outputs": [
    {
     "name": "stdout",
     "output_type": "stream",
     "text": [
      "[[ 9624851 12330249 22311518]\n",
      " [16855025 22980287 43356166]\n",
      " [23937156 31860450 60384158]]\n"
     ]
    }
   ],
   "source": [
    "# 2. Lakukan perkalian terhadap matrix berikut:\n",
    "\n",
    "a = array([[23, 50, 19], [7, 12, 109], [57, 67, 98]])\n",
    "b = array([[17], [22], [19]])\n",
    "\n",
    "c = a.dot(c)\n",
    "\n",
    "print(c)"
   ]
  },
  {
   "cell_type": "code",
   "execution_count": 44,
   "id": "8aadc9dc",
   "metadata": {},
   "outputs": [],
   "source": [
    "# 3. Lakukan Transpose, hitung determinan, dan inverse terhadap matrix dibawah ini:"
   ]
  },
  {
   "cell_type": "code",
   "execution_count": 45,
   "id": "ca97a973",
   "metadata": {},
   "outputs": [
    {
     "data": {
      "text/plain": [
       "array([[ 23,   7,  57],\n",
       "       [ 50,  12,  67],\n",
       "       [ 19, 109,  98]])"
      ]
     },
     "execution_count": 45,
     "metadata": {},
     "output_type": "execute_result"
    }
   ],
   "source": [
    "# Transpose\n",
    "\n",
    "a = array([[23, 50, 19], [7, 12, 109], [57, 67, 98]])\n",
    "\n",
    "a.T"
   ]
  },
  {
   "cell_type": "code",
   "execution_count": 46,
   "id": "bed2bae4",
   "metadata": {},
   "outputs": [
    {
     "name": "stdout",
     "output_type": "stream",
     "text": [
      "131344.0000000002\n"
     ]
    }
   ],
   "source": [
    "# Determinan\n",
    "\n",
    "from numpy.linalg import det\n",
    "\n",
    "d = det(a)\n",
    "\n",
    "print(d)"
   ]
  },
  {
   "cell_type": "code",
   "execution_count": 47,
   "id": "8d0e1b17",
   "metadata": {},
   "outputs": [
    {
     "name": "stdout",
     "output_type": "stream",
     "text": [
      "[[-0.0466485  -0.02761451  0.03975819]\n",
      " [ 0.04208034  0.00891552 -0.01807467]\n",
      " [-0.00163692  0.0099662  -0.00056341]]\n"
     ]
    }
   ],
   "source": [
    "# Invers\n",
    "\n",
    "from numpy.linalg import inv\n",
    "\n",
    "i = inv(a) \n",
    "\n",
    "print(i)"
   ]
  }
 ],
 "metadata": {
  "kernelspec": {
   "display_name": "Python 3",
   "language": "python",
   "name": "python3"
  },
  "language_info": {
   "codemirror_mode": {
    "name": "ipython",
    "version": 3
   },
   "file_extension": ".py",
   "mimetype": "text/x-python",
   "name": "python",
   "nbconvert_exporter": "python",
   "pygments_lexer": "ipython3",
   "version": "3.8.8"
  }
 },
 "nbformat": 4,
 "nbformat_minor": 5
}
