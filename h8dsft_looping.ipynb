{
  "nbformat": 4,
  "nbformat_minor": 0,
  "metadata": {
    "colab": {
      "name": "h8dsft_looping.ipynb",
      "provenance": [],
      "collapsed_sections": []
    },
    "kernelspec": {
      "name": "python3",
      "display_name": "Python 3"
    },
    "language_info": {
      "name": "python"
    }
  },
  "cells": [
    {
      "cell_type": "code",
      "metadata": {
        "colab": {
          "base_uri": "https://localhost:8080/"
        },
        "id": "9DORSqjPRMho",
        "outputId": "d762f209-bae0-4edf-cf91-d5f85386d2bc"
      },
      "source": [
        "numbers = [951, 402, 984, 651, 360, 69, 408, 319, 601, 485, 980, 507, 725, 547,\n",
        "           544, 615, 83, 165, 141, 501, 263, 617, 865, 575, 219, 390, 984, 592,\n",
        "           236, 105, 942, 941, 386, 462, 47, 418, 907, 344, 236, 375, 823, 566,\n",
        "           597, 978, 328, 615, 953, 345, 399, 162, 758, 219, 918, 237, 412, 566,\n",
        "           826, 248, 866, 950, 626, 949]\n",
        "\n",
        "for i in numbers:\n",
        "    if i%2 == 0:\n",
        "      print(i, end=', ')\n",
        "      if i == 918:\n",
        "        break\n",
        "print('')\n",
        "print('Done')"
      ],
      "execution_count": 21,
      "outputs": [
        {
          "output_type": "stream",
          "name": "stdout",
          "text": [
            "402, 984, 360, 408, 980, 544, 390, 984, 592, 236, 942, 386, 462, 418, 344, 236, 566, 978, 328, 162, 758, 918, \n",
            "Done\n"
          ]
        }
      ]
    }
  ]
}